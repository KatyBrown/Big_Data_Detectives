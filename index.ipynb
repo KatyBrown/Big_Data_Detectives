{
 "cells": [
  {
   "cell_type": "code",
   "execution_count": 9,
   "metadata": {},
   "outputs": [],
   "source": [
    "from IPython.display import display, Markdown, clear_output\n",
    "import ipywidgets as widgets"
   ]
  },
  {
   "cell_type": "code",
   "execution_count": null,
   "metadata": {},
   "outputs": [],
   "source": []
  },
  {
   "cell_type": "markdown",
   "metadata": {},
   "source": [
    "### Step 1: Select your dataset"
   ]
  },
  {
   "cell_type": "markdown",
   "metadata": {},
   "source": [
    "Choose your dataset ID from the menu below."
   ]
  },
  {
   "cell_type": "code",
   "execution_count": 13,
   "metadata": {},
   "outputs": [
    {
     "data": {
      "application/vnd.jupyter.widget-view+json": {
       "model_id": "d60d98bcda8643c9ad7ffedf0aafffc7",
       "version_major": 2,
       "version_minor": 0
      },
      "text/plain": [
       "VBox(children=(Dropdown(description='Dataset ID:', options=(1, 2, 3, 4, 5, 6, 7, 8), value=1), Button(descript…"
      ]
     },
     "metadata": {},
     "output_type": "display_data"
    }
   ],
   "source": [
    "{\n",
    "    \"tags\": [\n",
    "        \"hide_input\",\n",
    "    ]\n",
    "}\n",
    "menu_dataset = widgets.Dropdown(\n",
    "               options=range(1, 10),\n",
    "               value=1,\n",
    "               description='Dataset ID:')\n",
    "\n",
    "button_dataset = widgets.Button(description='Go', position='center')\n",
    "out_dataset = widgets.Output()\n",
    "\n",
    "def OC_button_dataset(_):\n",
    "    with out_dataset:\n",
    "        clear_output()\n",
    "        ID = menu_dataset.value\n",
    "        display(Markdown('''\n",
    "        You have selected dataset %i\n",
    "        \n",
    "        Reading raw data...''' % ID))\n",
    "\n",
    "button_dataset.on_click(OC_button_dataset)\n",
    "\n",
    "display(widgets.VBox([menu_dataset, button_dataset, out_dataset]))"
   ]
  },
  {
   "cell_type": "code",
   "execution_count": null,
   "metadata": {},
   "outputs": [],
   "source": []
  },
  {
   "cell_type": "code",
   "execution_count": null,
   "metadata": {},
   "outputs": [],
   "source": []
  }
 ],
 "metadata": {
  "kernelspec": {
   "display_name": "Python 3",
   "language": "python",
   "name": "python3"
  },
  "language_info": {
   "codemirror_mode": {
    "name": "ipython",
    "version": 3
   },
   "file_extension": ".py",
   "mimetype": "text/x-python",
   "name": "python",
   "nbconvert_exporter": "python",
   "pygments_lexer": "ipython3",
   "version": "3.7.3"
  }
 },
 "nbformat": 4,
 "nbformat_minor": 2
}
